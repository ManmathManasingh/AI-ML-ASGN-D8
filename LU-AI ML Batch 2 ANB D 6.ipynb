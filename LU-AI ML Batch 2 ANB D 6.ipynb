{
 "cells": [
  {
   "cell_type": "markdown",
   "metadata": {},
   "source": [
    "Question 1 :\n",
    "\n",
    " Assuming that we have some email addresses in the \"username@companyname.com\" format, please\n",
    "write a program to print the company name of a given email address. Both user names and company\n",
    "names are composed of letters only.\n",
    "\n",
    "Input Format:\n",
    " The first line of the input contains an email address. \n",
    " \n",
    "Output Format: \n",
    "Print the company name in a single line. \n",
    "\n",
    "Example; \n",
    "\n",
    "Input: \n",
    "john@google.com\n",
    "Output: \n",
    "google.\n",
    "\n",
    " "
   ]
  },
  {
   "cell_type": "code",
   "execution_count": 5,
   "metadata": {},
   "outputs": [
    {
     "name": "stdout",
     "output_type": "stream",
     "text": [
      "Input Your E-Mail Address hereManmath.lnt@voltech.com\n",
      "voltech"
     ]
    }
   ],
   "source": [
    "ip=input(\"Input Your E-Mail Address here\")\n",
    "x=ip.index(\"@\")\n",
    "print(ip[x+1:len(ip)-4],end='')"
   ]
  },
  {
   "cell_type": "markdown",
   "metadata": {},
   "source": [
    "Question 2 :\n",
    "\n",
    " Write a program that accepts a comma-separated sequence of words as input and prints the words in a\n",
    "comma-separated sequence after sorting them alphabetically. \n",
    "\n",
    "Input Format: \n",
    "\n",
    "The first line of input contains words separated by the comma. \n",
    "\n",
    "Output Format: \n",
    "\n",
    "Print the sorted words separated by the comma. \n",
    "\n",
    "Example: \n",
    "\n",
    "Input:\n",
    "without,hello,bag,world \n",
    "\n",
    "Output: \n",
    "bag,hello,without,world "
   ]
  },
  {
   "cell_type": "code",
   "execution_count": 3,
   "metadata": {},
   "outputs": [
    {
     "name": "stdout",
     "output_type": "stream",
     "text": [
      "Enter The Data:Without,Hello,Bag,World\n",
      "Sorted data: Bag,Hello,Without,World\n"
     ]
    }
   ],
   "source": [
    "items=[x for x in input(\"Enter The Data:\").split(',')]\n",
    "items.sort()\n",
    "print (\"Sorted data:\",','.join(items))\n"
   ]
  },
  {
   "cell_type": "markdown",
   "metadata": {},
   "source": [
    "Question 3: \n",
    "\n",
    "Create your own Jupyter Notebook for Sets. Reference link:\n",
    "https://www.w3schools.com/python/python_sets.asp\n"
   ]
  },
  {
   "cell_type": "code",
   "execution_count": 9,
   "metadata": {},
   "outputs": [
    {
     "name": "stdout",
     "output_type": "stream",
     "text": [
      "\n",
      "Set after Addition of elements from 1-5: \n",
      "{1, 2, 3, 4, 5, 6, 'For', 'Geeks'}\n",
      "\n",
      "Set with the Mixed Values\n",
      "{1, 2, 'Kumar', 4, 'Manasingh', 6, 'Manmath'}\n"
     ]
    }
   ],
   "source": [
    "for i in range(1, 6): \n",
    "    set1.add(i) \n",
    "print(\"\\nSet after Addition of elements from 1-5: \") \n",
    "print(set1) \n",
    "\n",
    "set1 = set([1, 2, 'Manmath', 4, 'Kumar', 6, 'Manasingh']) \n",
    "print(\"\\nSet with the Mixed Values\") \n",
    "print(set1) "
   ]
  },
  {
   "cell_type": "markdown",
   "metadata": {},
   "source": [
    "Question 4: \n",
    "\n",
    "AI ML Program | August 2020 \n",
    " Given a list of n-1 numbers ranging from 1 to n, your task is to find the missing number. There are no\n",
    "duplicates. \n",
    "\n",
    "Input Format: \n",
    "The first line contains n-1 numbers with each number separated by a space.\n",
    "\n",
    "Output Format: \n",
    "Print the missing number \n",
    "\n",
    "Example: \n",
    "\n",
    "Input: \n",
    "1 2 4 6 3 7 8 \n",
    "\n",
    "Output: \n",
    "5 \n",
    "\n",
    "Explanation: \n",
    "In the above list of numbers 5 is missing and hence 5 is the input\n"
   ]
  },
  {
   "cell_type": "code",
   "execution_count": 9,
   "metadata": {},
   "outputs": [
    {
     "name": "stdout",
     "output_type": "stream",
     "text": [
      "4\n"
     ]
    }
   ],
   "source": [
    "def FindMissingNo(a, n): \n",
    "    i, total = 0, 1\n",
    " \n",
    "    for i in range(2, n + 2):\n",
    "        total += i\n",
    "        total -= a[i - 2]\n",
    "    return total\n",
    "arr = [1, 2, 3, 5]\n",
    "print(FindMissingNo(arr, len(arr)))"
   ]
  },
  {
   "cell_type": "markdown",
   "metadata": {},
   "source": [
    "Question 5:\n",
    "\n",
    "With a given list L, write a program to print this list L after removing all duplicate values with original order\n",
    "reserved.\n",
    "\n",
    "Example: \n",
    "If the input list is \n",
    "12 24 35 24 88 120 155 88 120 155 \n",
    "Then the output should be \n",
    "12 24 35 88 120 155\n",
    "\n",
    "Explanation: \n",
    "\n",
    "Third, the seventh and ninth element of the list L has been removed because it was already present. \n",
    "Input Format: \n",
    "In one line take the elements of the list L with each element separated by a space. \n",
    "Output Format: \n",
    "Print the elements of the modified list in one line with each element separated by a space.\n",
    "\n",
    "Example: \n",
    "Input: \n",
    "12 24 35 24\n",
    "\n",
    "Output: \n",
    "12 24 35 "
   ]
  },
  {
   "cell_type": "code",
   "execution_count": 4,
   "metadata": {},
   "outputs": [
    {
     "name": "stdout",
     "output_type": "stream",
     "text": [
      "Input The List12 24 35 24\n",
      "12 24 35"
     ]
    }
   ],
   "source": [
    "o=list(map(int,input('Input The List').split()))\n",
    "k=[]\n",
    "for i in o:\n",
    "  if i not in k:\n",
    "    k.append(i)\n",
    "print(*k,end=\"\")\n"
   ]
  },
  {
   "cell_type": "code",
   "execution_count": null,
   "metadata": {},
   "outputs": [],
   "source": []
  }
 ],
 "metadata": {
  "kernelspec": {
   "display_name": "Python 3",
   "language": "python",
   "name": "python3"
  },
  "language_info": {
   "codemirror_mode": {
    "name": "ipython",
    "version": 3
   },
   "file_extension": ".py",
   "mimetype": "text/x-python",
   "name": "python",
   "nbconvert_exporter": "python",
   "pygments_lexer": "ipython3",
   "version": "3.8.3"
  }
 },
 "nbformat": 4,
 "nbformat_minor": 4
}
