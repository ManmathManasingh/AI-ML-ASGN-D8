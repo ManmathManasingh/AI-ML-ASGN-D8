{
 "cells": [
  {
   "cell_type": "markdown",
   "metadata": {},
   "source": [
    "Python ─ Classes and Objects \n",
    "--"
   ]
  },
  {
   "cell_type": "markdown",
   "metadata": {},
   "source": [
    "Python has been an object-oriented language since it existed. Because of this,\n",
    "creating and using classes and objects are downright easy. This chapter helps you\n",
    "become an expert in using Python's object-oriented programming support."
   ]
  },
  {
   "cell_type": "markdown",
   "metadata": {},
   "source": [
    "If you do not have any previous experience with object-oriented (OO) programming,\n",
    "you may want to consult an introductory course on it or at least a tutorial of some\n",
    "sort so that you have a grasp of the basic concepts."
   ]
  },
  {
   "cell_type": "markdown",
   "metadata": {},
   "source": [
    "However, here is small introduction of Object-Oriented Programming (OOP) to bring\n",
    "you at speed:"
   ]
  },
  {
   "cell_type": "markdown",
   "metadata": {},
   "source": [
    "Polymorphism: one object many forms."
   ]
  },
  {
   "cell_type": "markdown",
   "metadata": {},
   "source": [
    "Data Abstraction/Data Hiding"
   ]
  },
  {
   "cell_type": "markdown",
   "metadata": {},
   "source": [
    "Data Encapsulation/ Data Binding"
   ]
  },
  {
   "cell_type": "raw",
   "metadata": {},
   "source": [
    "Class definition\n",
    "\n",
    "class class_name:\n",
    "    stmnt1\n",
    "    stmnt2\n",
    "    stmnt3"
   ]
  },
  {
   "cell_type": "code",
   "execution_count": 5,
   "metadata": {},
   "outputs": [
    {
     "name": "stdout",
     "output_type": "stream",
     "text": [
      "Hello Python.\n",
      "Hello Python.\n"
     ]
    }
   ],
   "source": [
    "class abc:\n",
    "    def show(self):\n",
    "        print(\"Hello Python.\")\n",
    "\n",
    "s = abc()\n",
    "s.show()\n",
    "t = abc()\n",
    "t.show()"
   ]
  },
  {
   "cell_type": "markdown",
   "metadata": {},
   "source": [
    "self attribute\n",
    "--\n",
    "\n",
    ">The first argument of every class method is always a reference to the current instance of the class.\n",
    "\n",
    ">By convention, this argument is always named 'self'.\n",
    "\n",
    ">It is a part of Python syntax to access members of objects.\n",
    "\n",
    ">__However, self is not a reserved keyword in Python, it is just a strong convention.__"
   ]
  },
  {
   "cell_type": "markdown",
   "metadata": {},
   "source": [
    "Private variables\n",
    "--\n",
    "\n",
    ">Private means the attributes are only available for the members of the class not outside of the class.\n",
    "\n",
    ">A private variable can only be changed within a class method, and not outside of the class.\n",
    "\n",
    ">In Python, private variables begin with double underscores __\n",
    "\n",
    ">Unlike other programming languages, Python private variables are not strict, they can be accessed outside of the class."
   ]
  },
  {
   "cell_type": "code",
   "execution_count": 9,
   "metadata": {},
   "outputs": [
    {
     "name": "stdout",
     "output_type": "stream",
     "text": [
      "2\n",
      "Hello from class\n"
     ]
    }
   ],
   "source": [
    "# Program to use private variables\n",
    "class abc:\n",
    "    y=2\n",
    "    __v=4 # private var\n",
    "    def show(self):\n",
    "        print(\"Hello from class\")\n",
    "        \n",
    "\n",
    "s = abc()\n",
    "print(s.y)\n",
    "s.show()\n",
    "# print(s.__v) # gives error"
   ]
  },
  {
   "cell_type": "markdown",
   "metadata": {},
   "source": [
    "Instances as arguments\n",
    "--\n",
    "\n",
    "The class instance variables are always prefixed with reserved word 'self' and typically initialized in a constructor method named __init__"
   ]
  },
  {
   "cell_type": "code",
   "execution_count": 16,
   "metadata": {},
   "outputs": [
    {
     "name": "stdout",
     "output_type": "stream",
     "text": [
      "I am called.\n",
      "I am ready\n",
      "Lets go ahead.\n",
      "You are in show.\n",
      "Bye from show.\n"
     ]
    }
   ],
   "source": [
    "class xyz:\n",
    "    def __init__(self):\n",
    "        print(\"I am called.\")\n",
    "        print(\"I am ready\")\n",
    "        print(\"Lets go ahead.\")\n",
    "    def show(self):\n",
    "        print(\"You are in show.\")\n",
    "        print(\"Bye from show.\")\n",
    "s = xyz()\n",
    "\n",
    "s.show()"
   ]
  },
  {
   "cell_type": "code",
   "execution_count": 18,
   "metadata": {},
   "outputs": [
    {
     "name": "stdout",
     "output_type": "stream",
     "text": [
      "4\n",
      "5\n",
      "20\n"
     ]
    }
   ],
   "source": [
    "class xyz:\n",
    "    def __init__(self,n):\n",
    "        self.n1=n+1\n",
    "        print(n)\n",
    "        print(self.n1)\n",
    "        print(self.n1*n)\n",
    "s = xyz(4)"
   ]
  },
  {
   "cell_type": "code",
   "execution_count": null,
   "metadata": {},
   "outputs": [],
   "source": [
    "class xyz:\n",
    "    def __init__(self,n):\n",
    "        self.n=n+1\n",
    "        print(n)\n",
    "        print(self.n)\n",
    "        \n",
    "s=xyz(4)"
   ]
  },
  {
   "cell_type": "markdown",
   "metadata": {},
   "source": [
    "Instances a return values\n",
    "--\n",
    "\n",
    "In Python, methods and functions can return class instances."
   ]
  },
  {
   "cell_type": "code",
   "execution_count": 11,
   "metadata": {},
   "outputs": [
    {
     "name": "stdout",
     "output_type": "stream",
     "text": [
      "4 3\n",
      "4 3\n",
      "4 3\n",
      "99 88\n"
     ]
    }
   ],
   "source": [
    "# Program to use instances as return values\n",
    "class st:\n",
    "    def add(self,a,b):\n",
    "        a1=a\n",
    "        b1=b\n",
    "        print(a1,b1)\n",
    "        print(a,b)\n",
    "        a=99\n",
    "        b=88\n",
    "        print(a1,b1)\n",
    "        print(a,b)\n",
    "\n",
    "s=st()\n",
    "s.add(4,3)"
   ]
  },
  {
   "cell_type": "code",
   "execution_count": 13,
   "metadata": {},
   "outputs": [
    {
     "name": "stdout",
     "output_type": "stream",
     "text": [
      "4 3\n",
      "4 3\n",
      "4 3\n",
      "99 88\n",
      "555 666\n",
      "99 88\n"
     ]
    }
   ],
   "source": [
    "# Program to use instances as return values\n",
    "class st:\n",
    "    def add(self,a,b):\n",
    "        self.a=a\n",
    "        self.b=b\n",
    "        print(self.a,self.b)\n",
    "        print(a,b)\n",
    "        a=99\n",
    "        b=88\n",
    "        print(self.a,self.b)\n",
    "        print(a,b)\n",
    "        self.a=555\n",
    "        self.b=666\n",
    "        print(self.a,self.b)\n",
    "        print(a,b)\n",
    "\n",
    "s=st()\n",
    "s.add(4,3)"
   ]
  },
  {
   "cell_type": "code",
   "execution_count": 23,
   "metadata": {},
   "outputs": [
    {
     "data": {
      "text/plain": [
       "7"
      ]
     },
     "execution_count": 23,
     "metadata": {},
     "output_type": "execute_result"
    }
   ],
   "source": [
    "# Program to use instances as return values\n",
    "class st:\n",
    "    def add(self,a,b):\n",
    "        self.a=a\n",
    "        self.b=b\n",
    "        return self.a+self.b\n",
    "\n",
    "s=st()\n",
    "s.add(4,3)"
   ]
  },
  {
   "cell_type": "code",
   "execution_count": null,
   "metadata": {},
   "outputs": [],
   "source": [
    "# Program to use instances as return values using __init__\n",
    "class st:\n",
    "    def __init__(self,a,b):\n",
    "        self.a=a\n",
    "        self.b=b\n",
    "\n",
    "s=st(4,3)\n",
    "print(s.a)\n",
    "print(s.b)"
   ]
  },
  {
   "cell_type": "code",
   "execution_count": null,
   "metadata": {},
   "outputs": [],
   "source": [
    "# Program to use instances as return values using __init__\n",
    "class st:\n",
    "    def __init__(self,a,b):\n",
    "        self.a=a\n",
    "        self.b=b\n",
    "\n",
    "s=st(\"Phd\",\"CS & Engg\")\n",
    "print(\"Highest qualification: \",s.a)\n",
    "print(\"Stream: \",s.b)"
   ]
  },
  {
   "cell_type": "markdown",
   "metadata": {},
   "source": [
    "__del__()\n",
    "--\n",
    "\n",
    "It is used when you want to destroy an instance of the class which is no longer referenced.\n",
    "\n"
   ]
  },
  {
   "cell_type": "code",
   "execution_count": null,
   "metadata": {},
   "outputs": [],
   "source": [
    "# Program to delete object of a class.\n",
    "class abc:\n",
    "    def __init__(self,n): #Parameterized constructor\n",
    "        print(\"Hello \",n)\n",
    "    def __del__(self):\n",
    "        print(\"Object deleted\")\n",
    "\n",
    "s1=abc(\"Darshan\")\n",
    "s2=abc(\"Python\")        "
   ]
  },
  {
   "cell_type": "markdown",
   "metadata": {},
   "source": [
    "Data Encapsulation\n",
    "--\n",
    "\n",
    "It is used to restrict access to methods and variables. \n",
    "\n",
    "This can prevent the data to be modified by accident and is know as encapsulation."
   ]
  },
  {
   "cell_type": "code",
   "execution_count": null,
   "metadata": {},
   "outputs": [],
   "source": [
    "# Program to use Data Encapsulation\n",
    "class st:\n",
    "    def __init__(self):\n",
    "        self.__show1()\n",
    "    def show(self):\n",
    "        print(\"Darshan Ingle\")\n",
    "    def __show1(self):\n",
    "        print(\"Hello \")\n",
    "        \n",
    "v=st()\n",
    "v.show()\n",
    "v.__show1() # not accessible from object v bcz of private method"
   ]
  },
  {
   "cell_type": "raw",
   "metadata": {},
   "source": [
    "Data Encapsulation prevents the data to be modified by accident and not intentionally."
   ]
  },
  {
   "cell_type": "markdown",
   "metadata": {},
   "source": [
    "Data Abstraction:\n",
    "--\n",
    "Sometimes we want that objects attributes may or may not be visible outside the class definition.\n",
    "\n",
    "Here, we need to name attributes with double underscore prefix and those attributes then are not directly visible to the outsiders."
   ]
  },
  {
   "cell_type": "code",
   "execution_count": null,
   "metadata": {},
   "outputs": [],
   "source": [
    "# Program to use Data Hiding\n",
    "class abc:\n",
    "    __p=0\n",
    "    def show(self):\n",
    "        self.__p=self.__p+1\n",
    "        print(self.__p)\n",
    "\n",
    "v=abc()\n",
    "v.show()\n",
    "v.show()\n",
    "v.show()\n",
    "print(v.__p) # __p is hidden for outside class so error occurs"
   ]
  },
  {
   "cell_type": "markdown",
   "metadata": {},
   "source": [
    "Polymorphism\n",
    "--"
   ]
  },
  {
   "cell_type": "code",
   "execution_count": null,
   "metadata": {},
   "outputs": [],
   "source": [
    "# Program to use Polymorphism\n",
    "def show(s):\n",
    "    print(\"s= \",s)\n",
    "\n",
    "show(11)\n",
    "show(\"Darshan\")\n",
    "show(2.546)\n",
    "show(complex(2,4))"
   ]
  }
 ],
 "metadata": {
  "kernelspec": {
   "display_name": "Python 3",
   "language": "python",
   "name": "python3"
  },
  "language_info": {
   "codemirror_mode": {
    "name": "ipython",
    "version": 3
   },
   "file_extension": ".py",
   "mimetype": "text/x-python",
   "name": "python",
   "nbconvert_exporter": "python",
   "pygments_lexer": "ipython3",
   "version": "3.8.3"
  },
  "toc": {
   "base_numbering": 1,
   "nav_menu": {},
   "number_sections": true,
   "sideBar": true,
   "skip_h1_title": false,
   "title_cell": "Table of Contents",
   "title_sidebar": "Contents",
   "toc_cell": false,
   "toc_position": {},
   "toc_section_display": true,
   "toc_window_display": false
  }
 },
 "nbformat": 4,
 "nbformat_minor": 2
}
